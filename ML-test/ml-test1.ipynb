{
 "cells": [
  {
   "cell_type": "code",
   "execution_count": 1,
   "metadata": {
    "collapsed": true
   },
   "outputs": [],
   "source": [
    "# NB, this is a Python 2 notebook.\n",
    "import graphlab as gl\n",
    "import numpy as np\n",
    "import pandas as pd"
   ]
  },
  {
   "cell_type": "code",
   "execution_count": 3,
   "metadata": {},
   "outputs": [
    {
     "name": "stdout",
     "output_type": "stream",
     "text": [
      "This non-commercial license of GraphLab Create for academic use is assigned to fredrik.ahlgren@lnu.se and will expire on August 18, 2018.\n"
     ]
    },
    {
     "name": "stderr",
     "output_type": "stream",
     "text": [
      "[INFO] graphlab.cython.cy_server: GraphLab Create v2.1 started. Logging: /tmp/graphlab_server_1504183089.log\n"
     ]
    }
   ],
   "source": [
    "df = pd.read_hdf('../Database/filtered_df.h5','table')\n",
    "\n"
   ]
  },
  {
   "cell_type": "code",
   "execution_count": 30,
   "metadata": {},
   "outputs": [],
   "source": [
    "df['index']=df.index"
   ]
  },
  {
   "cell_type": "code",
   "execution_count": 33,
   "metadata": {},
   "outputs": [
    {
     "data": {
      "text/plain": [
       "2013-12-01 00:00:49   2013-12-01 00:00:49\n",
       "2013-12-01 00:15:49   2013-12-01 00:15:49\n",
       "2013-12-01 00:30:49   2013-12-01 00:30:49\n",
       "2013-12-01 00:45:49   2013-12-01 00:45:49\n",
       "2013-12-01 01:00:49   2013-12-01 01:00:49\n",
       "2013-12-01 01:15:49   2013-12-01 01:15:49\n",
       "2013-12-01 01:30:49   2013-12-01 01:30:49\n",
       "2013-12-01 01:45:49   2013-12-01 01:45:49\n",
       "2013-12-01 02:00:49   2013-12-01 02:00:49\n",
       "2013-12-01 02:15:49   2013-12-01 02:15:49\n",
       "2013-12-01 02:30:49   2013-12-01 02:30:49\n",
       "2013-12-01 02:45:49   2013-12-01 02:45:49\n",
       "2013-12-01 03:00:49   2013-12-01 03:00:49\n",
       "2013-12-01 03:15:49   2013-12-01 03:15:49\n",
       "2013-12-01 03:30:49   2013-12-01 03:30:49\n",
       "2013-12-01 03:45:49   2013-12-01 03:45:49\n",
       "2013-12-01 04:00:49   2013-12-01 04:00:49\n",
       "2013-12-01 04:15:49   2013-12-01 04:15:49\n",
       "2013-12-01 04:30:49   2013-12-01 04:30:49\n",
       "2013-12-01 04:45:49   2013-12-01 04:45:49\n",
       "2013-12-01 05:00:49   2013-12-01 05:00:49\n",
       "2013-12-01 05:15:49   2013-12-01 05:15:49\n",
       "2013-12-01 05:30:49   2013-12-01 05:30:49\n",
       "2013-12-01 05:45:49   2013-12-01 05:45:49\n",
       "2013-12-01 06:00:49   2013-12-01 06:00:49\n",
       "2013-12-01 06:15:49   2013-12-01 06:15:49\n",
       "2013-12-01 06:30:49   2013-12-01 06:30:49\n",
       "2013-12-01 06:45:49   2013-12-01 06:45:49\n",
       "2013-12-01 07:00:49   2013-12-01 07:00:49\n",
       "2013-12-01 07:15:49   2013-12-01 07:15:49\n",
       "                              ...        \n",
       "2014-12-17 11:30:49   2014-12-17 11:30:49\n",
       "2014-12-17 11:45:49   2014-12-17 11:45:49\n",
       "2014-12-17 12:00:49   2014-12-17 12:00:49\n",
       "2014-12-17 12:15:49   2014-12-17 12:15:49\n",
       "2014-12-17 12:30:49   2014-12-17 12:30:49\n",
       "2014-12-17 12:45:49   2014-12-17 12:45:49\n",
       "2014-12-17 13:00:49   2014-12-17 13:00:49\n",
       "2014-12-17 13:15:49   2014-12-17 13:15:49\n",
       "2014-12-17 13:30:49   2014-12-17 13:30:49\n",
       "2014-12-17 13:45:49   2014-12-17 13:45:49\n",
       "2014-12-17 14:00:49   2014-12-17 14:00:49\n",
       "2014-12-17 14:15:49   2014-12-17 14:15:49\n",
       "2014-12-17 14:30:49   2014-12-17 14:30:49\n",
       "2014-12-17 14:45:49   2014-12-17 14:45:49\n",
       "2014-12-17 15:00:49   2014-12-17 15:00:49\n",
       "2014-12-17 15:15:49   2014-12-17 15:15:49\n",
       "2014-12-17 15:30:49   2014-12-17 15:30:49\n",
       "2014-12-17 15:45:49   2014-12-17 15:45:49\n",
       "2014-12-17 16:00:49   2014-12-17 16:00:49\n",
       "2014-12-17 16:15:49   2014-12-17 16:15:49\n",
       "2014-12-17 16:30:49   2014-12-17 16:30:49\n",
       "2014-12-17 16:45:49   2014-12-17 16:45:49\n",
       "2014-12-17 17:00:49   2014-12-17 17:00:49\n",
       "2014-12-17 17:15:49   2014-12-17 17:15:49\n",
       "2014-12-17 17:30:49   2014-12-17 17:30:49\n",
       "2014-12-17 17:45:49   2014-12-17 17:45:49\n",
       "2014-12-17 18:00:49   2014-12-17 18:00:49\n",
       "2014-12-17 18:15:49   2014-12-17 18:15:49\n",
       "2014-12-17 18:30:49   2014-12-17 18:30:49\n",
       "2014-12-17 18:45:49   2014-12-17 18:45:49\n",
       "Name: index, Length: 36652, dtype: datetime64[ns]"
      ]
     },
     "execution_count": 33,
     "metadata": {},
     "output_type": "execute_result"
    }
   ],
   "source": [
    "df['index']"
   ]
  },
  {
   "cell_type": "code",
   "execution_count": 36,
   "metadata": {},
   "outputs": [
    {
     "ename": "TypeError",
     "evalue": "__init__() got an unexpected keyword argument 'dfindex'",
     "output_type": "error",
     "traceback": [
      "\u001b[0;31m---------------------------------------------------------------------------\u001b[0m",
      "\u001b[0;31mTypeError\u001b[0m                                 Traceback (most recent call last)",
      "\u001b[0;32m<ipython-input-36-cf8665ed1582>\u001b[0m in \u001b[0;36m<module>\u001b[0;34m()\u001b[0m\n\u001b[0;32m----> 1\u001b[0;31m \u001b[0mdata\u001b[0m \u001b[0;34m=\u001b[0m \u001b[0mgl\u001b[0m\u001b[0;34m.\u001b[0m\u001b[0mSFrame\u001b[0m\u001b[0;34m(\u001b[0m\u001b[0mdfindex\u001b[0m\u001b[0;34m=\u001b[0m\u001b[0;34m'in'\u001b[0m\u001b[0;34m)\u001b[0m\u001b[0;34m\u001b[0m\u001b[0m\n\u001b[0m",
      "\u001b[0;31mTypeError\u001b[0m: __init__() got an unexpected keyword argument 'dfindex'"
     ]
    }
   ],
   "source": [
    "data = gl.SFrame(df,index='in')"
   ]
  },
  {
   "cell_type": "code",
   "execution_count": 25,
   "metadata": {},
   "outputs": [
    {
     "name": "stdout",
     "output_type": "stream",
     "text": [
      "Canvas is accessible via web browser at the URL: http://localhost:51916/index.html\n",
      "Opening Canvas in default web browser.\n"
     ]
    }
   ],
   "source": [
    "data.show()"
   ]
  },
  {
   "cell_type": "code",
   "execution_count": 26,
   "metadata": {},
   "outputs": [
    {
     "ename": "ImportError",
     "evalue": "No module named tensorflow",
     "output_type": "error",
     "traceback": [
      "\u001b[0;31m---------------------------------------------------------------------------\u001b[0m",
      "\u001b[0;31mImportError\u001b[0m                               Traceback (most recent call last)",
      "\u001b[0;32m<ipython-input-26-a649b509054f>\u001b[0m in \u001b[0;36m<module>\u001b[0;34m()\u001b[0m\n\u001b[0;32m----> 1\u001b[0;31m \u001b[0;32mimport\u001b[0m \u001b[0mtensorflow\u001b[0m\u001b[0;34m\u001b[0m\u001b[0m\n\u001b[0m",
      "\u001b[0;31mImportError\u001b[0m: No module named tensorflow"
     ]
    }
   ],
   "source": [
    "import tensorflow"
   ]
  },
  {
   "cell_type": "code",
   "execution_count": null,
   "metadata": {
    "collapsed": true
   },
   "outputs": [],
   "source": []
  }
 ],
 "metadata": {
  "kernelspec": {
   "display_name": "Python 2",
   "language": "python",
   "name": "python2"
  },
  "language_info": {
   "codemirror_mode": {
    "name": "ipython",
    "version": 2
   },
   "file_extension": ".py",
   "mimetype": "text/x-python",
   "name": "python",
   "nbconvert_exporter": "python",
   "pygments_lexer": "ipython2",
   "version": "2.7.13"
  }
 },
 "nbformat": 4,
 "nbformat_minor": 2
}
